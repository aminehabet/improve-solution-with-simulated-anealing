{
 "cells": [
  {
   "cell_type": "code",
   "execution_count": 1,
   "metadata": {},
   "outputs": [],
   "source": [
    "import numpy as np\n",
    "import random as rd\n",
    "import networkx as nx #to plt the graph\n",
    "from matplotlib import pyplot as plt\n",
    "from copy import deepcopy as deepcopy\n",
    "\n",
    "data = {}\n",
    "\n",
    "data['tijk'] = [ #tijk\n",
    "    [0, 6, 9, 8, 7, 3, 6, 2, 3, 2, 6, 6, 4, 4, 5, 9, 7],                 #0\n",
    "    [6, 0, 8, 3, 2, 6, 8, 4, 8, 8, 13, 7, 5, 8, 12, 10, 14],             #1 \n",
    "    [9, 8, 0, 11, 10, 6, 3, 9, 5, 8, 4, 15, 14, 13, 9, 18, 9],           #2\n",
    "    [8, 3, 11, 0, 1, 7, 10, 6, 10, 10, 14, 6, 7, 9, 14, 6, 16],          #3   \n",
    "    [7, 2, 10, 1, 0, 6, 9, 4, 8, 9, 13, 4, 6, 8, 12, 8, 14],             #4\n",
    "    [3, 6, 6, 7, 6, 0, 2, 3, 2, 2, 7, 9, 7, 7, 6, 12, 8],                #5\n",
    "    [6, 8, 3, 10, 9, 2, 0, 6, 2, 5, 4, 12, 10, 10, 6, 15, 5],            #6\n",
    "    [2, 4, 9, 6, 4, 3, 6, 0, 4, 4, 8, 5, 4, 3, 7, 8, 10],                #7\n",
    "    [3, 8, 5, 10, 8, 2, 2, 4, 0, 3, 4, 9, 8, 7, 3, 13, 6],               #8\n",
    "    [2, 8, 8, 10, 9, 2, 5, 4, 3, 0, 4, 6, 5, 4, 3, 9, 5],                #9\n",
    "    [6, 13, 4, 14, 13, 7, 4, 8, 4, 4, 0, 10, 9, 8, 4, 13, 4],            #10\n",
    "    [6, 7, 15, 6, 4, 9, 12, 5, 9, 6, 10, 0, 1, 3, 7, 3, 10],             #11\n",
    "    [4, 5, 14, 7, 6, 7, 10, 4, 8, 5, 9, 1, 0, 2, 6, 4, 8],               #12\n",
    "    [4, 8, 13, 9, 8, 7, 10, 3, 7, 4, 8, 3, 2, 0, 4, 5, 6],               #13\n",
    "    [5, 12, 9, 14, 12, 6, 6, 7, 3, 3, 4, 7, 6, 4, 0, 9, 2],              #14\n",
    "    [9, 10, 18, 6, 8, 12, 15, 8, 13, 9, 13, 3, 4, 5, 9, 0, 9],           #15\n",
    "    [7, 14, 9, 16, 14, 8, 5, 10, 6, 5, 4, 10, 8, 6, 2, 9, 0],            #16\n",
    "]\n",
    "\n",
    "data['time_windows'] = [\n",
    "   #(ai, bi)\n",
    "    (0, 100),  # i = o(k)\n",
    "    (0, 100),  # i = 1\n",
    "    (0, 100),  # i = 2\n",
    "    (0, 100),  # i = 3\n",
    "    (0, 100),  # i = 4\n",
    "    (0, 100),  # i = 5\n",
    "    (0, 100),  # i = 6\n",
    "    (0, 100),  # i = 7\n",
    "    (0, 100),  # i = 8\n",
    "    (0, 100),  # i = 9\n",
    "    (0, 100),  # i = 10\n",
    "    (0, 100),  # i = 11\n",
    "    (0, 100),  # i = 12\n",
    "    (0, 100),  # i = 13\n",
    "    (0, 100),  # i = 14\n",
    "    (0, 100),  # i = 15\n",
    "    (0, 100),  # i = 16\n",
    "]\n",
    "data['pickups_deliveries'] = [\n",
    "    [1, 6],\n",
    "    [2, 10],\n",
    "    [4, 3],\n",
    "    [5, 9],\n",
    "    [7, 8],\n",
    "    [15, 11],\n",
    "    [13, 12],\n",
    "    [16, 14],\n",
    "]\n",
    "data['k'] = 1  #k: num vehicule \n",
    "\n",
    "data['o(k)'] = 0 # o(k) origin\n",
    "\n",
    "data['P'] = []\n",
    "for j in range(len(data['pickups_deliveries'])):\n",
    "    data['P'].append(data['pickups_deliveries'][j][0])\n",
    "\n",
    "data['D'] = []\n",
    "for j in range(len(data['pickups_deliveries'])):\n",
    "    data['D'].append(data['pickups_deliveries'][j][1])\n",
    "\n",
    "data['K'] = np.arange(1, data['k'] + 1)\n",
    "\n",
    "data['Tik'] = np.zeros((17, data['k']))\n",
    "\n"
   ]
  },
  {
   "cell_type": "code",
   "execution_count": 2,
   "metadata": {},
   "outputs": [
    {
     "name": "stdout",
     "output_type": "stream",
     "text": [
      "P = [1, 2, 4, 5, 7, 15, 13, 16] \n",
      "\n",
      "D = [6, 10, 3, 9, 8, 11, 12, 14] \n",
      "\n",
      "N = [1, 2, 4, 5, 7, 15, 13, 16, 6, 10, 3, 9, 8, 11, 12, 14] \n",
      "\n",
      "K = [1] \n",
      "\n"
     ]
    }
   ],
   "source": [
    "print(\"P =\", data['P'], '\\n')\n",
    "print(\"D =\", data['D'], '\\n')\n",
    "print(\"N =\", data['P'] + data['D'], '\\n')\n",
    "print(\"K =\", data['K'], '\\n')\n",
    " "
   ]
  },
  {
   "cell_type": "code",
   "execution_count": 3,
   "metadata": {},
   "outputs": [],
   "source": [
    "def tabu_search(data):\n",
    "    tabu_list = [int(name) for name in range(len(data['tijk']))]\n",
    "    G = [[0] for c in range(data['k'])]\n",
    "    Tik = np.zeros(data['k'])\n",
    "    tabu_list.remove(0)\n",
    "    p = np.zeros(data['k'])\n",
    "    while len(tabu_list) > 0:\n",
    "        for k in range(data['k']):\n",
    "            if len(tabu_list) == 0:\n",
    "                break\n",
    "            u = G[k][-1]\n",
    "            v = tabu_list[-1]\n",
    "            minimum = float(\"inf\")\n",
    "            for w in tabu_list:\n",
    "                for itr in range(50000):\n",
    "                    if data['tijk'][int(u)][int(w)] < minimum \\\n",
    "                        and w in data['P'] or (w in data['D'] \\\n",
    "                        and data['P'][data['D'].index(w)] not in tabu_list \\\n",
    "                        and data['P'][data['D'].index(w)] in G[k]): \n",
    "                        minimum = data['tijk'][int(u)][int(w)]\n",
    "                        v = w\n",
    "                    if Tik[k] + data['tijk'][int(u)][int(w)] > data['time_windows'][v][1]:\n",
    "                        raise ValueError('A very specific bad thing with time windows happened.')\n",
    "                        break\n",
    "            G[k].append(v)\n",
    "            pk = int(p[k])\n",
    "            Tik[k] += data['tijk'][pk][v]\n",
    "            print('vehicule', k + 1)\n",
    "            print('ftom', int(p[k]),'to', v)\n",
    "            print('T {} {} = {}' .format(v, k + 1, Tik[k]))\n",
    "            print('\\n')\n",
    "            p[k] = v\n",
    "            tabu_list.remove(v)\n",
    "        if Tik[k] + data['tijk'][int(u)][int(v)] > data['time_windows'][v][1]:\n",
    "            raise ValueError('A very specific bad thing with time windows happened.')            \n",
    "    return G, Tik"
   ]
  },
  {
   "cell_type": "code",
   "execution_count": 4,
   "metadata": {},
   "outputs": [
    {
     "name": "stdout",
     "output_type": "stream",
     "text": [
      "T_ik: Time variable indicating the start date of service at point i by the truck k.\n",
      "\n",
      "vehicule 1\n",
      "ftom 0 to 7\n",
      "T 7 1 = 2.0\n",
      "\n",
      "\n",
      "vehicule 1\n",
      "ftom 7 to 13\n",
      "T 13 1 = 5.0\n",
      "\n",
      "\n",
      "vehicule 1\n",
      "ftom 13 to 12\n",
      "T 12 1 = 7.0\n",
      "\n",
      "\n",
      "vehicule 1\n",
      "ftom 12 to 15\n",
      "T 15 1 = 11.0\n",
      "\n",
      "\n",
      "vehicule 1\n",
      "ftom 15 to 11\n",
      "T 11 1 = 14.0\n",
      "\n",
      "\n",
      "vehicule 1\n",
      "ftom 11 to 8\n",
      "T 8 1 = 23.0\n",
      "\n",
      "\n",
      "vehicule 1\n",
      "ftom 8 to 5\n",
      "T 5 1 = 25.0\n",
      "\n",
      "\n",
      "vehicule 1\n",
      "ftom 5 to 9\n",
      "T 9 1 = 27.0\n",
      "\n",
      "\n",
      "vehicule 1\n",
      "ftom 9 to 16\n",
      "T 16 1 = 32.0\n",
      "\n",
      "\n",
      "vehicule 1\n",
      "ftom 16 to 14\n",
      "T 14 1 = 34.0\n",
      "\n",
      "\n",
      "vehicule 1\n",
      "ftom 14 to 2\n",
      "T 2 1 = 43.0\n",
      "\n",
      "\n",
      "vehicule 1\n",
      "ftom 2 to 10\n",
      "T 10 1 = 47.0\n",
      "\n",
      "\n",
      "vehicule 1\n",
      "ftom 10 to 1\n",
      "T 1 1 = 60.0\n",
      "\n",
      "\n",
      "vehicule 1\n",
      "ftom 1 to 6\n",
      "T 6 1 = 68.0\n",
      "\n",
      "\n",
      "vehicule 1\n",
      "ftom 6 to 4\n",
      "T 4 1 = 77.0\n",
      "\n",
      "\n",
      "vehicule 1\n",
      "ftom 4 to 3\n",
      "T 3 1 = 78.0\n",
      "\n",
      "\n"
     ]
    }
   ],
   "source": [
    "print('T_ik: Time variable indicating the start date of service at point i by the truck k.\\n')\n",
    "G, Tik = tabu_search(data)"
   ]
  },
  {
   "cell_type": "code",
   "execution_count": 5,
   "metadata": {},
   "outputs": [
    {
     "name": "stdout",
     "output_type": "stream",
     "text": [
      "G 1 = (V 1, A 1):\n",
      "[0, 7, 13, 12, 15, 11, 8, 5, 9, 16, 14, 2, 10, 1, 6, 4, 3] \n",
      "\n"
     ]
    }
   ],
   "source": [
    "for k in range(data['k']):\n",
    "    print('G {} = (V {}, A {}):'.format(k + 1, k + 1, k + 1))\n",
    "    print(G[k], '\\n')"
   ]
  },
  {
   "cell_type": "code",
   "execution_count": 6,
   "metadata": {},
   "outputs": [],
   "source": [
    "def visual(G, k):\n",
    "    g = nx.Graph() \n",
    "    for k in range (data['k']):  \n",
    "        for i in range(len(G[k]) - 1):\n",
    "            g.add_edge(G[k][i], G[k][i+1]) \n",
    "    nx.draw_circular(g, with_labels = True, edge_color='r') "
   ]
  },
  {
   "cell_type": "code",
   "execution_count": 7,
   "metadata": {},
   "outputs": [
    {
     "data": {
      "image/png": "[encoded data removed]",
      "text/plain": [
       "<Figure size 432x288 with 1 Axes>"
      ]
     },
     "metadata": {},
     "output_type": "display_data"
    }
   ],
   "source": [
    "visual(G, data['k'])"
   ]
  },
  {
   "cell_type": "code",
   "execution_count": 8,
   "metadata": {},
   "outputs": [],
   "source": [
    "G= G[0]"
   ]
  },
  {
   "cell_type": "code",
   "execution_count": 9,
   "metadata": {},
   "outputs": [],
   "source": [
    "def solutionRate(G, tijk):\n",
    "    N = len(G)\n",
    "    output = 0\n",
    "    for i in range(N-1):\n",
    "        output += tijk[(G[i])][(G[i+1])]\n",
    "    return float(output/N-1)"
   ]
  },
  {
   "cell_type": "code",
   "execution_count": 10,
   "metadata": {},
   "outputs": [
    {
     "data": {
      "text/plain": [
       "3.5882352941176467"
      ]
     },
     "execution_count": 10,
     "metadata": {},
     "output_type": "execute_result"
    }
   ],
   "source": [
    "solutionRate(G, data['tijk'])"
   ]
  },
  {
   "cell_type": "code",
   "execution_count": 11,
   "metadata": {},
   "outputs": [],
   "source": [
    "def generate(s):\n",
    "    return np.random.permutation(s)"
   ]
  },
  {
   "cell_type": "code",
   "execution_count": 12,
   "metadata": {},
   "outputs": [],
   "source": [
    "def improveSolution(niter,s0, generate, tijk,T):\n",
    "    s = deepcopy(s0)\n",
    "    rate = solutionRate(s,tijk)\n",
    "    rates = [rate]\n",
    "    for n in range(niter):\n",
    "        setoile = generate(s)\n",
    "        if setoile[0] == 0:\n",
    "            delta = solutionRate(setoile,tijk) - rate\n",
    "            if  delta < 0:\n",
    "                s = setoile\n",
    "                rate = solutionRate(s,tijk)\n",
    "            else:\n",
    "                a = rd.random()\n",
    "                if a < np.exp(-delta/T(n)):\n",
    "                    s = setoile\n",
    "                    rate = solutionRate(s,tijk)\n",
    "            rates.append(rate)\n",
    "    return s,rates"
   ]
  },
  {
   "cell_type": "code",
   "execution_count": 13,
   "metadata": {},
   "outputs": [],
   "source": [
    "def simulatedAnnealing(s0, niter, tijk, Temperature, N):\n",
    "    s_sim, rate_sim = improveSolution(niter, s0,generate,tijk,Temperature)\n",
    "    rates = rate_sim[-1]\n",
    "    return s_sim, rates"
   ]
  },
  {
   "cell_type": "code",
   "execution_count": 15,
   "metadata": {},
   "outputs": [],
   "source": [
    "def Temp(n,alpha=.6):\n",
    "    return max(100 *  (alpha**(n+1)), 10**(-18))"
   ]
  },
  {
   "cell_type": "code",
   "execution_count": 16,
   "metadata": {},
   "outputs": [],
   "source": [
    "test = simulatedAnnealing(G, 100000, data['tijk'], Temp, data['P'] + data['D'])"
   ]
  },
  {
   "cell_type": "code",
   "execution_count": 17,
   "metadata": {},
   "outputs": [
    {
     "name": "stdout",
     "output_type": "stream",
     "text": [
      "(array([ 0,  9, 13,  7,  4,  5, 10,  6,  2, 16, 14,  8,  1,  3, 15, 12, 11]), 3.0588235294117645)\n",
      "[1, 2, 4, 5, 7, 15, 13, 16] [6, 10, 3, 9, 8, 11, 12, 14]\n"
     ]
    }
   ],
   "source": [
    "print(test)\n",
    "print(data['P'], data['D'])"
   ]
  },
  {
   "cell_type": "code",
   "execution_count": 18,
   "metadata": {},
   "outputs": [
    {
     "data": {
      "image/png": "[encoded data removed]",
      "text/plain": [
       "<Figure size 432x288 with 1 Axes>"
      ]
     },
     "metadata": {},
     "output_type": "display_data"
    }
   ],
   "source": [
    "visual(test, data['k'])"
   ]
  },
  {
   "cell_type": "code",
   "execution_count": null,
   "metadata": {},
   "outputs": [],
   "source": []
  }
 ],
 "metadata": {
  "kernelspec": {
   "display_name": "Python 3",
   "language": "python",
   "name": "python3"
  },
  "language_info": {
   "codemirror_mode": {
    "name": "ipython",
    "version": 3
   },
   "file_extension": ".py",
   "mimetype": "text/x-python",
   "name": "python",
   "nbconvert_exporter": "python",
   "pygments_lexer": "ipython3",
   "version": "3.8.2"
  }
 },
 "nbformat": 4,
 "nbformat_minor": 4
}
